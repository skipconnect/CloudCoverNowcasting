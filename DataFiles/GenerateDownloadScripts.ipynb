{
 "cells": [
  {
   "cell_type": "markdown",
   "id": "20ae39d8-9129-42c8-8cb3-809397ca038d",
   "metadata": {},
   "source": [
    "# Generate download_script that executes python aswell"
   ]
  },
  {
   "cell_type": "code",
   "execution_count": 18,
   "id": "7c4daa40-eff4-42b8-95ab-76c8ba76a8e9",
   "metadata": {},
   "outputs": [
    {
     "data": {
      "text/plain": [
       "34219"
      ]
     },
     "execution_count": 18,
     "metadata": {},
     "output_type": "execute_result"
    }
   ],
   "source": [
    "with open(\"2020.sh\", \"r\") as sh:\n",
    "    lines = sh.readlines()\n",
    "len(lines)"
   ]
  },
  {
   "cell_type": "code",
   "execution_count": 19,
   "id": "767c28b6-a72f-4c9c-a333-2045fbc5e5cc",
   "metadata": {},
   "outputs": [],
   "source": [
    "j = 0\n",
    "for i,line in enumerate(lines):\n",
    "    if line.startswith(\"if [ \\! -d\"):\n",
    "        if j == 0:\n",
    "            date = line.split(\"/\")[1][0:10]\n",
    "            j = 1\n",
    "        else:\n",
    "            lines[i] += \"python generate.py \"+date+\"\\n\"\n",
    "            date = line.split(\"/\")[1][0:10]\n",
    "# Inserting last runscript\n",
    "lines[-2] += \"python generate.py \"+date+\"\\n\"\n",
    "# Inserting anaconda environment activation\n",
    "lines[1] += \"source C:/Users/Bruger/anaconda3/etc/profile.d/conda.sh\\nconda activate Bachelor\\n\\n\""
   ]
  },
  {
   "cell_type": "code",
   "execution_count": 20,
   "id": "f7d720b0-3b6c-4c3f-b40e-7ec069ddcc81",
   "metadata": {},
   "outputs": [],
   "source": [
    "with open(\"2020Complete.sh\", \"w\") as done:\n",
    "    done.writelines(lines)"
   ]
  },
  {
   "cell_type": "markdown",
   "id": "9dbb0b89-3759-493b-89a7-add644a602ff",
   "metadata": {},
   "source": [
    "# Generate DownloadScript with specific dates "
   ]
  },
  {
   "cell_type": "code",
   "execution_count": 19,
   "id": "c05ba779-abb2-42d6-8ae0-17d2d0a83376",
   "metadata": {},
   "outputs": [
    {
     "data": {
      "text/plain": [
       "12045"
      ]
     },
     "execution_count": 19,
     "metadata": {},
     "output_type": "execute_result"
    }
   ],
   "source": [
    "with open(\"2021Sep.sh\", \"r\") as sh:\n",
    "    lines = sh.readlines()\n",
    "len(lines)"
   ]
  },
  {
   "cell_type": "code",
   "execution_count": 20,
   "id": "a932d2a2-c09d-468d-8db4-e0bb804451ff",
   "metadata": {},
   "outputs": [
    {
     "name": "stdout",
     "output_type": "stream",
     "text": [
      "90\n"
     ]
    }
   ],
   "source": [
    "for i,line in enumerate(lines):\n",
    "    if line.startswith(\"if [ \\!\"):\n",
    "        print(i)\n",
    "        break"
   ]
  },
  {
   "cell_type": "code",
   "execution_count": 21,
   "id": "9f6c7e91-20f3-42dc-b617-b5bc2c5ffaee",
   "metadata": {},
   "outputs": [],
   "source": [
    "lines = lines[0:90]"
   ]
  },
  {
   "cell_type": "code",
   "execution_count": 22,
   "id": "8b06dede-0eea-4b6d-b66f-e0ed19477faf",
   "metadata": {},
   "outputs": [],
   "source": [
    "dates = [\"2020_01_13\", \"2020_01_27\", \"2020_03_04\", \"2020_04_18\", \"2020_06_26\", \"2020_07_01\", \"2020_08_12\", \"2020_10_10\", \"2020_10_11\", \"2020_12_10\"]\n",
    "for i,date in enumerate(dates):\n",
    "    if i == 0:\n",
    "        folder_creator = \"if [ \\! -d ${dest}/\"+date+\" ]; then mkdir ${dest}/\"+date+\"; fi\\n\"\n",
    "        lines += [folder_creator]\n",
    "    else:\n",
    "        after = \"if [ \\! -d ${dest}/\"+date+\" ]; then mkdir ${dest}/\"+date+\"; fi\\npython generate.py \"+dates[i-1]+\"\\n\"\n",
    "        lines += [after]\n",
    "    files = '''mycurl --retry 5 --silent --show-error --data \"user=${username}&passwd=${md5passwd}\" \"${url}&file=GEO/MSG+0000/S_NWC/{y}/{d1}/S_NWC_CMA_MSG4_globeM-VISIR_{d2}T000000Z.nc&Xdim=3712&Ydim=3712\" > ${dest}/{d1}/S_NWC_CMA_MSG4_globeM-VISIR_{d2}T000000Z_4dcc7a6a8c7eaf55c00bbb2884fc3057.nc\n",
    "mycurl --retry 5 --silent --show-error --data \"user=${username}&passwd=${md5passwd}\" \"${url}&file=GEO/MSG+0000/S_NWC/{y}/{d1}/S_NWC_CMA_MSG4_globeM-VISIR_{d2}T001500Z.nc&Xdim=3712&Ydim=3712\" > ${dest}/{d1}/S_NWC_CMA_MSG4_globeM-VISIR_{d2}T001500Z_4dcc7a6a8c7eaf55c00bbb2884fc3057.nc\n",
    "mycurl --retry 5 --silent --show-error --data \"user=${username}&passwd=${md5passwd}\" \"${url}&file=GEO/MSG+0000/S_NWC/{y}/{d1}/S_NWC_CMA_MSG4_globeM-VISIR_{d2}T003000Z.nc&Xdim=3712&Ydim=3712\" > ${dest}/{d1}/S_NWC_CMA_MSG4_globeM-VISIR_{d2}T003000Z_4dcc7a6a8c7eaf55c00bbb2884fc3057.nc\n",
    "mycurl --retry 5 --silent --show-error --data \"user=${username}&passwd=${md5passwd}\" \"${url}&file=GEO/MSG+0000/S_NWC/{y}/{d1}/S_NWC_CMA_MSG4_globeM-VISIR_{d2}T004500Z.nc&Xdim=3712&Ydim=3712\" > ${dest}/{d1}/S_NWC_CMA_MSG4_globeM-VISIR_{d2}T004500Z_4dcc7a6a8c7eaf55c00bbb2884fc3057.nc\n",
    "mycurl --retry 5 --silent --show-error --data \"user=${username}&passwd=${md5passwd}\" \"${url}&file=GEO/MSG+0000/S_NWC/{y}/{d1}/S_NWC_CMA_MSG4_globeM-VISIR_{d2}T010000Z.nc&Xdim=3712&Ydim=3712\" > ${dest}/{d1}/S_NWC_CMA_MSG4_globeM-VISIR_{d2}T010000Z_4dcc7a6a8c7eaf55c00bbb2884fc3057.nc\n",
    "mycurl --retry 5 --silent --show-error --data \"user=${username}&passwd=${md5passwd}\" \"${url}&file=GEO/MSG+0000/S_NWC/{y}/{d1}/S_NWC_CMA_MSG4_globeM-VISIR_{d2}T011500Z.nc&Xdim=3712&Ydim=3712\" > ${dest}/{d1}/S_NWC_CMA_MSG4_globeM-VISIR_{d2}T011500Z_4dcc7a6a8c7eaf55c00bbb2884fc3057.nc\n",
    "mycurl --retry 5 --silent --show-error --data \"user=${username}&passwd=${md5passwd}\" \"${url}&file=GEO/MSG+0000/S_NWC/{y}/{d1}/S_NWC_CMA_MSG4_globeM-VISIR_{d2}T013000Z.nc&Xdim=3712&Ydim=3712\" > ${dest}/{d1}/S_NWC_CMA_MSG4_globeM-VISIR_{d2}T013000Z_4dcc7a6a8c7eaf55c00bbb2884fc3057.nc\n",
    "mycurl --retry 5 --silent --show-error --data \"user=${username}&passwd=${md5passwd}\" \"${url}&file=GEO/MSG+0000/S_NWC/{y}/{d1}/S_NWC_CMA_MSG4_globeM-VISIR_{d2}T014500Z.nc&Xdim=3712&Ydim=3712\" > ${dest}/{d1}/S_NWC_CMA_MSG4_globeM-VISIR_{d2}T014500Z_4dcc7a6a8c7eaf55c00bbb2884fc3057.nc\n",
    "mycurl --retry 5 --silent --show-error --data \"user=${username}&passwd=${md5passwd}\" \"${url}&file=GEO/MSG+0000/S_NWC/{y}/{d1}/S_NWC_CMA_MSG4_globeM-VISIR_{d2}T020000Z.nc&Xdim=3712&Ydim=3712\" > ${dest}/{d1}/S_NWC_CMA_MSG4_globeM-VISIR_{d2}T020000Z_4dcc7a6a8c7eaf55c00bbb2884fc3057.nc\n",
    "mycurl --retry 5 --silent --show-error --data \"user=${username}&passwd=${md5passwd}\" \"${url}&file=GEO/MSG+0000/S_NWC/{y}/{d1}/S_NWC_CMA_MSG4_globeM-VISIR_{d2}T021500Z.nc&Xdim=3712&Ydim=3712\" > ${dest}/{d1}/S_NWC_CMA_MSG4_globeM-VISIR_{d2}T021500Z_4dcc7a6a8c7eaf55c00bbb2884fc3057.nc\n",
    "mycurl --retry 5 --silent --show-error --data \"user=${username}&passwd=${md5passwd}\" \"${url}&file=GEO/MSG+0000/S_NWC/{y}/{d1}/S_NWC_CMA_MSG4_globeM-VISIR_{d2}T023000Z.nc&Xdim=3712&Ydim=3712\" > ${dest}/{d1}/S_NWC_CMA_MSG4_globeM-VISIR_{d2}T023000Z_4dcc7a6a8c7eaf55c00bbb2884fc3057.nc\n",
    "mycurl --retry 5 --silent --show-error --data \"user=${username}&passwd=${md5passwd}\" \"${url}&file=GEO/MSG+0000/S_NWC/{y}/{d1}/S_NWC_CMA_MSG4_globeM-VISIR_{d2}T024500Z.nc&Xdim=3712&Ydim=3712\" > ${dest}/{d1}/S_NWC_CMA_MSG4_globeM-VISIR_{d2}T024500Z_4dcc7a6a8c7eaf55c00bbb2884fc3057.nc\n",
    "mycurl --retry 5 --silent --show-error --data \"user=${username}&passwd=${md5passwd}\" \"${url}&file=GEO/MSG+0000/S_NWC/{y}/{d1}/S_NWC_CMA_MSG4_globeM-VISIR_{d2}T030000Z.nc&Xdim=3712&Ydim=3712\" > ${dest}/{d1}/S_NWC_CMA_MSG4_globeM-VISIR_{d2}T030000Z_4dcc7a6a8c7eaf55c00bbb2884fc3057.nc\n",
    "mycurl --retry 5 --silent --show-error --data \"user=${username}&passwd=${md5passwd}\" \"${url}&file=GEO/MSG+0000/S_NWC/{y}/{d1}/S_NWC_CMA_MSG4_globeM-VISIR_{d2}T031500Z.nc&Xdim=3712&Ydim=3712\" > ${dest}/{d1}/S_NWC_CMA_MSG4_globeM-VISIR_{d2}T031500Z_4dcc7a6a8c7eaf55c00bbb2884fc3057.nc\n",
    "mycurl --retry 5 --silent --show-error --data \"user=${username}&passwd=${md5passwd}\" \"${url}&file=GEO/MSG+0000/S_NWC/{y}/{d1}/S_NWC_CMA_MSG4_globeM-VISIR_{d2}T033000Z.nc&Xdim=3712&Ydim=3712\" > ${dest}/{d1}/S_NWC_CMA_MSG4_globeM-VISIR_{d2}T033000Z_4dcc7a6a8c7eaf55c00bbb2884fc3057.nc\n",
    "mycurl --retry 5 --silent --show-error --data \"user=${username}&passwd=${md5passwd}\" \"${url}&file=GEO/MSG+0000/S_NWC/{y}/{d1}/S_NWC_CMA_MSG4_globeM-VISIR_{d2}T034500Z.nc&Xdim=3712&Ydim=3712\" > ${dest}/{d1}/S_NWC_CMA_MSG4_globeM-VISIR_{d2}T034500Z_4dcc7a6a8c7eaf55c00bbb2884fc3057.nc\n",
    "mycurl --retry 5 --silent --show-error --data \"user=${username}&passwd=${md5passwd}\" \"${url}&file=GEO/MSG+0000/S_NWC/{y}/{d1}/S_NWC_CMA_MSG4_globeM-VISIR_{d2}T040000Z.nc&Xdim=3712&Ydim=3712\" > ${dest}/{d1}/S_NWC_CMA_MSG4_globeM-VISIR_{d2}T040000Z_4dcc7a6a8c7eaf55c00bbb2884fc3057.nc\n",
    "mycurl --retry 5 --silent --show-error --data \"user=${username}&passwd=${md5passwd}\" \"${url}&file=GEO/MSG+0000/S_NWC/{y}/{d1}/S_NWC_CMA_MSG4_globeM-VISIR_{d2}T041500Z.nc&Xdim=3712&Ydim=3712\" > ${dest}/{d1}/S_NWC_CMA_MSG4_globeM-VISIR_{d2}T041500Z_4dcc7a6a8c7eaf55c00bbb2884fc3057.nc\n",
    "mycurl --retry 5 --silent --show-error --data \"user=${username}&passwd=${md5passwd}\" \"${url}&file=GEO/MSG+0000/S_NWC/{y}/{d1}/S_NWC_CMA_MSG4_globeM-VISIR_{d2}T043000Z.nc&Xdim=3712&Ydim=3712\" > ${dest}/{d1}/S_NWC_CMA_MSG4_globeM-VISIR_{d2}T043000Z_4dcc7a6a8c7eaf55c00bbb2884fc3057.nc\n",
    "mycurl --retry 5 --silent --show-error --data \"user=${username}&passwd=${md5passwd}\" \"${url}&file=GEO/MSG+0000/S_NWC/{y}/{d1}/S_NWC_CMA_MSG4_globeM-VISIR_{d2}T044500Z.nc&Xdim=3712&Ydim=3712\" > ${dest}/{d1}/S_NWC_CMA_MSG4_globeM-VISIR_{d2}T044500Z_4dcc7a6a8c7eaf55c00bbb2884fc3057.nc\n",
    "mycurl --retry 5 --silent --show-error --data \"user=${username}&passwd=${md5passwd}\" \"${url}&file=GEO/MSG+0000/S_NWC/{y}/{d1}/S_NWC_CMA_MSG4_globeM-VISIR_{d2}T050000Z.nc&Xdim=3712&Ydim=3712\" > ${dest}/{d1}/S_NWC_CMA_MSG4_globeM-VISIR_{d2}T050000Z_4dcc7a6a8c7eaf55c00bbb2884fc3057.nc\n",
    "mycurl --retry 5 --silent --show-error --data \"user=${username}&passwd=${md5passwd}\" \"${url}&file=GEO/MSG+0000/S_NWC/{y}/{d1}/S_NWC_CMA_MSG4_globeM-VISIR_{d2}T051500Z.nc&Xdim=3712&Ydim=3712\" > ${dest}/{d1}/S_NWC_CMA_MSG4_globeM-VISIR_{d2}T051500Z_4dcc7a6a8c7eaf55c00bbb2884fc3057.nc\n",
    "mycurl --retry 5 --silent --show-error --data \"user=${username}&passwd=${md5passwd}\" \"${url}&file=GEO/MSG+0000/S_NWC/{y}/{d1}/S_NWC_CMA_MSG4_globeM-VISIR_{d2}T053000Z.nc&Xdim=3712&Ydim=3712\" > ${dest}/{d1}/S_NWC_CMA_MSG4_globeM-VISIR_{d2}T053000Z_4dcc7a6a8c7eaf55c00bbb2884fc3057.nc\n",
    "mycurl --retry 5 --silent --show-error --data \"user=${username}&passwd=${md5passwd}\" \"${url}&file=GEO/MSG+0000/S_NWC/{y}/{d1}/S_NWC_CMA_MSG4_globeM-VISIR_{d2}T054500Z.nc&Xdim=3712&Ydim=3712\" > ${dest}/{d1}/S_NWC_CMA_MSG4_globeM-VISIR_{d2}T054500Z_4dcc7a6a8c7eaf55c00bbb2884fc3057.nc\n",
    "mycurl --retry 5 --silent --show-error --data \"user=${username}&passwd=${md5passwd}\" \"${url}&file=GEO/MSG+0000/S_NWC/{y}/{d1}/S_NWC_CMA_MSG4_globeM-VISIR_{d2}T060000Z.nc&Xdim=3712&Ydim=3712\" > ${dest}/{d1}/S_NWC_CMA_MSG4_globeM-VISIR_{d2}T060000Z_4dcc7a6a8c7eaf55c00bbb2884fc3057.nc\n",
    "mycurl --retry 5 --silent --show-error --data \"user=${username}&passwd=${md5passwd}\" \"${url}&file=GEO/MSG+0000/S_NWC/{y}/{d1}/S_NWC_CMA_MSG4_globeM-VISIR_{d2}T061500Z.nc&Xdim=3712&Ydim=3712\" > ${dest}/{d1}/S_NWC_CMA_MSG4_globeM-VISIR_{d2}T061500Z_4dcc7a6a8c7eaf55c00bbb2884fc3057.nc\n",
    "mycurl --retry 5 --silent --show-error --data \"user=${username}&passwd=${md5passwd}\" \"${url}&file=GEO/MSG+0000/S_NWC/{y}/{d1}/S_NWC_CMA_MSG4_globeM-VISIR_{d2}T063000Z.nc&Xdim=3712&Ydim=3712\" > ${dest}/{d1}/S_NWC_CMA_MSG4_globeM-VISIR_{d2}T063000Z_4dcc7a6a8c7eaf55c00bbb2884fc3057.nc\n",
    "mycurl --retry 5 --silent --show-error --data \"user=${username}&passwd=${md5passwd}\" \"${url}&file=GEO/MSG+0000/S_NWC/{y}/{d1}/S_NWC_CMA_MSG4_globeM-VISIR_{d2}T064500Z.nc&Xdim=3712&Ydim=3712\" > ${dest}/{d1}/S_NWC_CMA_MSG4_globeM-VISIR_{d2}T064500Z_4dcc7a6a8c7eaf55c00bbb2884fc3057.nc\n",
    "mycurl --retry 5 --silent --show-error --data \"user=${username}&passwd=${md5passwd}\" \"${url}&file=GEO/MSG+0000/S_NWC/{y}/{d1}/S_NWC_CMA_MSG4_globeM-VISIR_{d2}T070000Z.nc&Xdim=3712&Ydim=3712\" > ${dest}/{d1}/S_NWC_CMA_MSG4_globeM-VISIR_{d2}T070000Z_4dcc7a6a8c7eaf55c00bbb2884fc3057.nc\n",
    "mycurl --retry 5 --silent --show-error --data \"user=${username}&passwd=${md5passwd}\" \"${url}&file=GEO/MSG+0000/S_NWC/{y}/{d1}/S_NWC_CMA_MSG4_globeM-VISIR_{d2}T071500Z.nc&Xdim=3712&Ydim=3712\" > ${dest}/{d1}/S_NWC_CMA_MSG4_globeM-VISIR_{d2}T071500Z_4dcc7a6a8c7eaf55c00bbb2884fc3057.nc\n",
    "mycurl --retry 5 --silent --show-error --data \"user=${username}&passwd=${md5passwd}\" \"${url}&file=GEO/MSG+0000/S_NWC/{y}/{d1}/S_NWC_CMA_MSG4_globeM-VISIR_{d2}T073000Z.nc&Xdim=3712&Ydim=3712\" > ${dest}/{d1}/S_NWC_CMA_MSG4_globeM-VISIR_{d2}T073000Z_4dcc7a6a8c7eaf55c00bbb2884fc3057.nc\n",
    "mycurl --retry 5 --silent --show-error --data \"user=${username}&passwd=${md5passwd}\" \"${url}&file=GEO/MSG+0000/S_NWC/{y}/{d1}/S_NWC_CMA_MSG4_globeM-VISIR_{d2}T074500Z.nc&Xdim=3712&Ydim=3712\" > ${dest}/{d1}/S_NWC_CMA_MSG4_globeM-VISIR_{d2}T074500Z_4dcc7a6a8c7eaf55c00bbb2884fc3057.nc\n",
    "mycurl --retry 5 --silent --show-error --data \"user=${username}&passwd=${md5passwd}\" \"${url}&file=GEO/MSG+0000/S_NWC/{y}/{d1}/S_NWC_CMA_MSG4_globeM-VISIR_{d2}T080000Z.nc&Xdim=3712&Ydim=3712\" > ${dest}/{d1}/S_NWC_CMA_MSG4_globeM-VISIR_{d2}T080000Z_4dcc7a6a8c7eaf55c00bbb2884fc3057.nc\n",
    "mycurl --retry 5 --silent --show-error --data \"user=${username}&passwd=${md5passwd}\" \"${url}&file=GEO/MSG+0000/S_NWC/{y}/{d1}/S_NWC_CMA_MSG4_globeM-VISIR_{d2}T081500Z.nc&Xdim=3712&Ydim=3712\" > ${dest}/{d1}/S_NWC_CMA_MSG4_globeM-VISIR_{d2}T081500Z_4dcc7a6a8c7eaf55c00bbb2884fc3057.nc\n",
    "mycurl --retry 5 --silent --show-error --data \"user=${username}&passwd=${md5passwd}\" \"${url}&file=GEO/MSG+0000/S_NWC/{y}/{d1}/S_NWC_CMA_MSG4_globeM-VISIR_{d2}T083000Z.nc&Xdim=3712&Ydim=3712\" > ${dest}/{d1}/S_NWC_CMA_MSG4_globeM-VISIR_{d2}T083000Z_4dcc7a6a8c7eaf55c00bbb2884fc3057.nc\n",
    "mycurl --retry 5 --silent --show-error --data \"user=${username}&passwd=${md5passwd}\" \"${url}&file=GEO/MSG+0000/S_NWC/{y}/{d1}/S_NWC_CMA_MSG4_globeM-VISIR_{d2}T084500Z.nc&Xdim=3712&Ydim=3712\" > ${dest}/{d1}/S_NWC_CMA_MSG4_globeM-VISIR_{d2}T084500Z_4dcc7a6a8c7eaf55c00bbb2884fc3057.nc\n",
    "mycurl --retry 5 --silent --show-error --data \"user=${username}&passwd=${md5passwd}\" \"${url}&file=GEO/MSG+0000/S_NWC/{y}/{d1}/S_NWC_CMA_MSG4_globeM-VISIR_{d2}T090000Z.nc&Xdim=3712&Ydim=3712\" > ${dest}/{d1}/S_NWC_CMA_MSG4_globeM-VISIR_{d2}T090000Z_4dcc7a6a8c7eaf55c00bbb2884fc3057.nc\n",
    "mycurl --retry 5 --silent --show-error --data \"user=${username}&passwd=${md5passwd}\" \"${url}&file=GEO/MSG+0000/S_NWC/{y}/{d1}/S_NWC_CMA_MSG4_globeM-VISIR_{d2}T091500Z.nc&Xdim=3712&Ydim=3712\" > ${dest}/{d1}/S_NWC_CMA_MSG4_globeM-VISIR_{d2}T091500Z_4dcc7a6a8c7eaf55c00bbb2884fc3057.nc\n",
    "mycurl --retry 5 --silent --show-error --data \"user=${username}&passwd=${md5passwd}\" \"${url}&file=GEO/MSG+0000/S_NWC/{y}/{d1}/S_NWC_CMA_MSG4_globeM-VISIR_{d2}T093000Z.nc&Xdim=3712&Ydim=3712\" > ${dest}/{d1}/S_NWC_CMA_MSG4_globeM-VISIR_{d2}T093000Z_4dcc7a6a8c7eaf55c00bbb2884fc3057.nc\n",
    "mycurl --retry 5 --silent --show-error --data \"user=${username}&passwd=${md5passwd}\" \"${url}&file=GEO/MSG+0000/S_NWC/{y}/{d1}/S_NWC_CMA_MSG4_globeM-VISIR_{d2}T094500Z.nc&Xdim=3712&Ydim=3712\" > ${dest}/{d1}/S_NWC_CMA_MSG4_globeM-VISIR_{d2}T094500Z_4dcc7a6a8c7eaf55c00bbb2884fc3057.nc\n",
    "mycurl --retry 5 --silent --show-error --data \"user=${username}&passwd=${md5passwd}\" \"${url}&file=GEO/MSG+0000/S_NWC/{y}/{d1}/S_NWC_CMA_MSG4_globeM-VISIR_{d2}T100000Z.nc&Xdim=3712&Ydim=3712\" > ${dest}/{d1}/S_NWC_CMA_MSG4_globeM-VISIR_{d2}T100000Z_4dcc7a6a8c7eaf55c00bbb2884fc3057.nc\n",
    "mycurl --retry 5 --silent --show-error --data \"user=${username}&passwd=${md5passwd}\" \"${url}&file=GEO/MSG+0000/S_NWC/{y}/{d1}/S_NWC_CMA_MSG4_globeM-VISIR_{d2}T101500Z.nc&Xdim=3712&Ydim=3712\" > ${dest}/{d1}/S_NWC_CMA_MSG4_globeM-VISIR_{d2}T101500Z_4dcc7a6a8c7eaf55c00bbb2884fc3057.nc\n",
    "mycurl --retry 5 --silent --show-error --data \"user=${username}&passwd=${md5passwd}\" \"${url}&file=GEO/MSG+0000/S_NWC/{y}/{d1}/S_NWC_CMA_MSG4_globeM-VISIR_{d2}T103000Z.nc&Xdim=3712&Ydim=3712\" > ${dest}/{d1}/S_NWC_CMA_MSG4_globeM-VISIR_{d2}T103000Z_4dcc7a6a8c7eaf55c00bbb2884fc3057.nc\n",
    "mycurl --retry 5 --silent --show-error --data \"user=${username}&passwd=${md5passwd}\" \"${url}&file=GEO/MSG+0000/S_NWC/{y}/{d1}/S_NWC_CMA_MSG4_globeM-VISIR_{d2}T104500Z.nc&Xdim=3712&Ydim=3712\" > ${dest}/{d1}/S_NWC_CMA_MSG4_globeM-VISIR_{d2}T104500Z_4dcc7a6a8c7eaf55c00bbb2884fc3057.nc\n",
    "mycurl --retry 5 --silent --show-error --data \"user=${username}&passwd=${md5passwd}\" \"${url}&file=GEO/MSG+0000/S_NWC/{y}/{d1}/S_NWC_CMA_MSG4_globeM-VISIR_{d2}T110000Z.nc&Xdim=3712&Ydim=3712\" > ${dest}/{d1}/S_NWC_CMA_MSG4_globeM-VISIR_{d2}T110000Z_4dcc7a6a8c7eaf55c00bbb2884fc3057.nc\n",
    "mycurl --retry 5 --silent --show-error --data \"user=${username}&passwd=${md5passwd}\" \"${url}&file=GEO/MSG+0000/S_NWC/{y}/{d1}/S_NWC_CMA_MSG4_globeM-VISIR_{d2}T111500Z.nc&Xdim=3712&Ydim=3712\" > ${dest}/{d1}/S_NWC_CMA_MSG4_globeM-VISIR_{d2}T111500Z_4dcc7a6a8c7eaf55c00bbb2884fc3057.nc\n",
    "mycurl --retry 5 --silent --show-error --data \"user=${username}&passwd=${md5passwd}\" \"${url}&file=GEO/MSG+0000/S_NWC/{y}/{d1}/S_NWC_CMA_MSG4_globeM-VISIR_{d2}T113000Z.nc&Xdim=3712&Ydim=3712\" > ${dest}/{d1}/S_NWC_CMA_MSG4_globeM-VISIR_{d2}T113000Z_4dcc7a6a8c7eaf55c00bbb2884fc3057.nc\n",
    "mycurl --retry 5 --silent --show-error --data \"user=${username}&passwd=${md5passwd}\" \"${url}&file=GEO/MSG+0000/S_NWC/{y}/{d1}/S_NWC_CMA_MSG4_globeM-VISIR_{d2}T114500Z.nc&Xdim=3712&Ydim=3712\" > ${dest}/{d1}/S_NWC_CMA_MSG4_globeM-VISIR_{d2}T114500Z_4dcc7a6a8c7eaf55c00bbb2884fc3057.nc\n",
    "mycurl --retry 5 --silent --show-error --data \"user=${username}&passwd=${md5passwd}\" \"${url}&file=GEO/MSG+0000/S_NWC/{y}/{d1}/S_NWC_CMA_MSG4_globeM-VISIR_{d2}T120000Z.nc&Xdim=3712&Ydim=3712\" > ${dest}/{d1}/S_NWC_CMA_MSG4_globeM-VISIR_{d2}T120000Z_4dcc7a6a8c7eaf55c00bbb2884fc3057.nc\n",
    "mycurl --retry 5 --silent --show-error --data \"user=${username}&passwd=${md5passwd}\" \"${url}&file=GEO/MSG+0000/S_NWC/{y}/{d1}/S_NWC_CMA_MSG4_globeM-VISIR_{d2}T121500Z.nc&Xdim=3712&Ydim=3712\" > ${dest}/{d1}/S_NWC_CMA_MSG4_globeM-VISIR_{d2}T121500Z_4dcc7a6a8c7eaf55c00bbb2884fc3057.nc\n",
    "mycurl --retry 5 --silent --show-error --data \"user=${username}&passwd=${md5passwd}\" \"${url}&file=GEO/MSG+0000/S_NWC/{y}/{d1}/S_NWC_CMA_MSG4_globeM-VISIR_{d2}T123000Z.nc&Xdim=3712&Ydim=3712\" > ${dest}/{d1}/S_NWC_CMA_MSG4_globeM-VISIR_{d2}T123000Z_4dcc7a6a8c7eaf55c00bbb2884fc3057.nc\n",
    "mycurl --retry 5 --silent --show-error --data \"user=${username}&passwd=${md5passwd}\" \"${url}&file=GEO/MSG+0000/S_NWC/{y}/{d1}/S_NWC_CMA_MSG4_globeM-VISIR_{d2}T124500Z.nc&Xdim=3712&Ydim=3712\" > ${dest}/{d1}/S_NWC_CMA_MSG4_globeM-VISIR_{d2}T124500Z_4dcc7a6a8c7eaf55c00bbb2884fc3057.nc\n",
    "mycurl --retry 5 --silent --show-error --data \"user=${username}&passwd=${md5passwd}\" \"${url}&file=GEO/MSG+0000/S_NWC/{y}/{d1}/S_NWC_CMA_MSG4_globeM-VISIR_{d2}T130000Z.nc&Xdim=3712&Ydim=3712\" > ${dest}/{d1}/S_NWC_CMA_MSG4_globeM-VISIR_{d2}T130000Z_4dcc7a6a8c7eaf55c00bbb2884fc3057.nc\n",
    "mycurl --retry 5 --silent --show-error --data \"user=${username}&passwd=${md5passwd}\" \"${url}&file=GEO/MSG+0000/S_NWC/{y}/{d1}/S_NWC_CMA_MSG4_globeM-VISIR_{d2}T131500Z.nc&Xdim=3712&Ydim=3712\" > ${dest}/{d1}/S_NWC_CMA_MSG4_globeM-VISIR_{d2}T131500Z_4dcc7a6a8c7eaf55c00bbb2884fc3057.nc\n",
    "mycurl --retry 5 --silent --show-error --data \"user=${username}&passwd=${md5passwd}\" \"${url}&file=GEO/MSG+0000/S_NWC/{y}/{d1}/S_NWC_CMA_MSG4_globeM-VISIR_{d2}T133000Z.nc&Xdim=3712&Ydim=3712\" > ${dest}/{d1}/S_NWC_CMA_MSG4_globeM-VISIR_{d2}T133000Z_4dcc7a6a8c7eaf55c00bbb2884fc3057.nc\n",
    "mycurl --retry 5 --silent --show-error --data \"user=${username}&passwd=${md5passwd}\" \"${url}&file=GEO/MSG+0000/S_NWC/{y}/{d1}/S_NWC_CMA_MSG4_globeM-VISIR_{d2}T134500Z.nc&Xdim=3712&Ydim=3712\" > ${dest}/{d1}/S_NWC_CMA_MSG4_globeM-VISIR_{d2}T134500Z_4dcc7a6a8c7eaf55c00bbb2884fc3057.nc\n",
    "mycurl --retry 5 --silent --show-error --data \"user=${username}&passwd=${md5passwd}\" \"${url}&file=GEO/MSG+0000/S_NWC/{y}/{d1}/S_NWC_CMA_MSG4_globeM-VISIR_{d2}T140000Z.nc&Xdim=3712&Ydim=3712\" > ${dest}/{d1}/S_NWC_CMA_MSG4_globeM-VISIR_{d2}T140000Z_4dcc7a6a8c7eaf55c00bbb2884fc3057.nc\n",
    "mycurl --retry 5 --silent --show-error --data \"user=${username}&passwd=${md5passwd}\" \"${url}&file=GEO/MSG+0000/S_NWC/{y}/{d1}/S_NWC_CMA_MSG4_globeM-VISIR_{d2}T141500Z.nc&Xdim=3712&Ydim=3712\" > ${dest}/{d1}/S_NWC_CMA_MSG4_globeM-VISIR_{d2}T141500Z_4dcc7a6a8c7eaf55c00bbb2884fc3057.nc\n",
    "mycurl --retry 5 --silent --show-error --data \"user=${username}&passwd=${md5passwd}\" \"${url}&file=GEO/MSG+0000/S_NWC/{y}/{d1}/S_NWC_CMA_MSG4_globeM-VISIR_{d2}T143000Z.nc&Xdim=3712&Ydim=3712\" > ${dest}/{d1}/S_NWC_CMA_MSG4_globeM-VISIR_{d2}T143000Z_4dcc7a6a8c7eaf55c00bbb2884fc3057.nc\n",
    "mycurl --retry 5 --silent --show-error --data \"user=${username}&passwd=${md5passwd}\" \"${url}&file=GEO/MSG+0000/S_NWC/{y}/{d1}/S_NWC_CMA_MSG4_globeM-VISIR_{d2}T144500Z.nc&Xdim=3712&Ydim=3712\" > ${dest}/{d1}/S_NWC_CMA_MSG4_globeM-VISIR_{d2}T144500Z_4dcc7a6a8c7eaf55c00bbb2884fc3057.nc\n",
    "mycurl --retry 5 --silent --show-error --data \"user=${username}&passwd=${md5passwd}\" \"${url}&file=GEO/MSG+0000/S_NWC/{y}/{d1}/S_NWC_CMA_MSG4_globeM-VISIR_{d2}T150000Z.nc&Xdim=3712&Ydim=3712\" > ${dest}/{d1}/S_NWC_CMA_MSG4_globeM-VISIR_{d2}T150000Z_4dcc7a6a8c7eaf55c00bbb2884fc3057.nc\n",
    "mycurl --retry 5 --silent --show-error --data \"user=${username}&passwd=${md5passwd}\" \"${url}&file=GEO/MSG+0000/S_NWC/{y}/{d1}/S_NWC_CMA_MSG4_globeM-VISIR_{d2}T151500Z.nc&Xdim=3712&Ydim=3712\" > ${dest}/{d1}/S_NWC_CMA_MSG4_globeM-VISIR_{d2}T151500Z_4dcc7a6a8c7eaf55c00bbb2884fc3057.nc\n",
    "mycurl --retry 5 --silent --show-error --data \"user=${username}&passwd=${md5passwd}\" \"${url}&file=GEO/MSG+0000/S_NWC/{y}/{d1}/S_NWC_CMA_MSG4_globeM-VISIR_{d2}T153000Z.nc&Xdim=3712&Ydim=3712\" > ${dest}/{d1}/S_NWC_CMA_MSG4_globeM-VISIR_{d2}T153000Z_4dcc7a6a8c7eaf55c00bbb2884fc3057.nc\n",
    "mycurl --retry 5 --silent --show-error --data \"user=${username}&passwd=${md5passwd}\" \"${url}&file=GEO/MSG+0000/S_NWC/{y}/{d1}/S_NWC_CMA_MSG4_globeM-VISIR_{d2}T154500Z.nc&Xdim=3712&Ydim=3712\" > ${dest}/{d1}/S_NWC_CMA_MSG4_globeM-VISIR_{d2}T154500Z_4dcc7a6a8c7eaf55c00bbb2884fc3057.nc\n",
    "mycurl --retry 5 --silent --show-error --data \"user=${username}&passwd=${md5passwd}\" \"${url}&file=GEO/MSG+0000/S_NWC/{y}/{d1}/S_NWC_CMA_MSG4_globeM-VISIR_{d2}T160000Z.nc&Xdim=3712&Ydim=3712\" > ${dest}/{d1}/S_NWC_CMA_MSG4_globeM-VISIR_{d2}T160000Z_4dcc7a6a8c7eaf55c00bbb2884fc3057.nc\n",
    "mycurl --retry 5 --silent --show-error --data \"user=${username}&passwd=${md5passwd}\" \"${url}&file=GEO/MSG+0000/S_NWC/{y}/{d1}/S_NWC_CMA_MSG4_globeM-VISIR_{d2}T161500Z.nc&Xdim=3712&Ydim=3712\" > ${dest}/{d1}/S_NWC_CMA_MSG4_globeM-VISIR_{d2}T161500Z_4dcc7a6a8c7eaf55c00bbb2884fc3057.nc\n",
    "mycurl --retry 5 --silent --show-error --data \"user=${username}&passwd=${md5passwd}\" \"${url}&file=GEO/MSG+0000/S_NWC/{y}/{d1}/S_NWC_CMA_MSG4_globeM-VISIR_{d2}T163000Z.nc&Xdim=3712&Ydim=3712\" > ${dest}/{d1}/S_NWC_CMA_MSG4_globeM-VISIR_{d2}T163000Z_4dcc7a6a8c7eaf55c00bbb2884fc3057.nc\n",
    "mycurl --retry 5 --silent --show-error --data \"user=${username}&passwd=${md5passwd}\" \"${url}&file=GEO/MSG+0000/S_NWC/{y}/{d1}/S_NWC_CMA_MSG4_globeM-VISIR_{d2}T164500Z.nc&Xdim=3712&Ydim=3712\" > ${dest}/{d1}/S_NWC_CMA_MSG4_globeM-VISIR_{d2}T164500Z_4dcc7a6a8c7eaf55c00bbb2884fc3057.nc\n",
    "mycurl --retry 5 --silent --show-error --data \"user=${username}&passwd=${md5passwd}\" \"${url}&file=GEO/MSG+0000/S_NWC/{y}/{d1}/S_NWC_CMA_MSG4_globeM-VISIR_{d2}T170000Z.nc&Xdim=3712&Ydim=3712\" > ${dest}/{d1}/S_NWC_CMA_MSG4_globeM-VISIR_{d2}T170000Z_4dcc7a6a8c7eaf55c00bbb2884fc3057.nc\n",
    "mycurl --retry 5 --silent --show-error --data \"user=${username}&passwd=${md5passwd}\" \"${url}&file=GEO/MSG+0000/S_NWC/{y}/{d1}/S_NWC_CMA_MSG4_globeM-VISIR_{d2}T171500Z.nc&Xdim=3712&Ydim=3712\" > ${dest}/{d1}/S_NWC_CMA_MSG4_globeM-VISIR_{d2}T171500Z_4dcc7a6a8c7eaf55c00bbb2884fc3057.nc\n",
    "mycurl --retry 5 --silent --show-error --data \"user=${username}&passwd=${md5passwd}\" \"${url}&file=GEO/MSG+0000/S_NWC/{y}/{d1}/S_NWC_CMA_MSG4_globeM-VISIR_{d2}T173000Z.nc&Xdim=3712&Ydim=3712\" > ${dest}/{d1}/S_NWC_CMA_MSG4_globeM-VISIR_{d2}T173000Z_4dcc7a6a8c7eaf55c00bbb2884fc3057.nc\n",
    "mycurl --retry 5 --silent --show-error --data \"user=${username}&passwd=${md5passwd}\" \"${url}&file=GEO/MSG+0000/S_NWC/{y}/{d1}/S_NWC_CMA_MSG4_globeM-VISIR_{d2}T174500Z.nc&Xdim=3712&Ydim=3712\" > ${dest}/{d1}/S_NWC_CMA_MSG4_globeM-VISIR_{d2}T174500Z_4dcc7a6a8c7eaf55c00bbb2884fc3057.nc\n",
    "mycurl --retry 5 --silent --show-error --data \"user=${username}&passwd=${md5passwd}\" \"${url}&file=GEO/MSG+0000/S_NWC/{y}/{d1}/S_NWC_CMA_MSG4_globeM-VISIR_{d2}T180000Z.nc&Xdim=3712&Ydim=3712\" > ${dest}/{d1}/S_NWC_CMA_MSG4_globeM-VISIR_{d2}T180000Z_4dcc7a6a8c7eaf55c00bbb2884fc3057.nc\n",
    "mycurl --retry 5 --silent --show-error --data \"user=${username}&passwd=${md5passwd}\" \"${url}&file=GEO/MSG+0000/S_NWC/{y}/{d1}/S_NWC_CMA_MSG4_globeM-VISIR_{d2}T181500Z.nc&Xdim=3712&Ydim=3712\" > ${dest}/{d1}/S_NWC_CMA_MSG4_globeM-VISIR_{d2}T181500Z_4dcc7a6a8c7eaf55c00bbb2884fc3057.nc\n",
    "mycurl --retry 5 --silent --show-error --data \"user=${username}&passwd=${md5passwd}\" \"${url}&file=GEO/MSG+0000/S_NWC/{y}/{d1}/S_NWC_CMA_MSG4_globeM-VISIR_{d2}T183000Z.nc&Xdim=3712&Ydim=3712\" > ${dest}/{d1}/S_NWC_CMA_MSG4_globeM-VISIR_{d2}T183000Z_4dcc7a6a8c7eaf55c00bbb2884fc3057.nc\n",
    "mycurl --retry 5 --silent --show-error --data \"user=${username}&passwd=${md5passwd}\" \"${url}&file=GEO/MSG+0000/S_NWC/{y}/{d1}/S_NWC_CMA_MSG4_globeM-VISIR_{d2}T184500Z.nc&Xdim=3712&Ydim=3712\" > ${dest}/{d1}/S_NWC_CMA_MSG4_globeM-VISIR_{d2}T184500Z_4dcc7a6a8c7eaf55c00bbb2884fc3057.nc\n",
    "mycurl --retry 5 --silent --show-error --data \"user=${username}&passwd=${md5passwd}\" \"${url}&file=GEO/MSG+0000/S_NWC/{y}/{d1}/S_NWC_CMA_MSG4_globeM-VISIR_{d2}T190000Z.nc&Xdim=3712&Ydim=3712\" > ${dest}/{d1}/S_NWC_CMA_MSG4_globeM-VISIR_{d2}T190000Z_4dcc7a6a8c7eaf55c00bbb2884fc3057.nc\n",
    "mycurl --retry 5 --silent --show-error --data \"user=${username}&passwd=${md5passwd}\" \"${url}&file=GEO/MSG+0000/S_NWC/{y}/{d1}/S_NWC_CMA_MSG4_globeM-VISIR_{d2}T191500Z.nc&Xdim=3712&Ydim=3712\" > ${dest}/{d1}/S_NWC_CMA_MSG4_globeM-VISIR_{d2}T191500Z_4dcc7a6a8c7eaf55c00bbb2884fc3057.nc\n",
    "mycurl --retry 5 --silent --show-error --data \"user=${username}&passwd=${md5passwd}\" \"${url}&file=GEO/MSG+0000/S_NWC/{y}/{d1}/S_NWC_CMA_MSG4_globeM-VISIR_{d2}T193000Z.nc&Xdim=3712&Ydim=3712\" > ${dest}/{d1}/S_NWC_CMA_MSG4_globeM-VISIR_{d2}T193000Z_4dcc7a6a8c7eaf55c00bbb2884fc3057.nc\n",
    "mycurl --retry 5 --silent --show-error --data \"user=${username}&passwd=${md5passwd}\" \"${url}&file=GEO/MSG+0000/S_NWC/{y}/{d1}/S_NWC_CMA_MSG4_globeM-VISIR_{d2}T194500Z.nc&Xdim=3712&Ydim=3712\" > ${dest}/{d1}/S_NWC_CMA_MSG4_globeM-VISIR_{d2}T194500Z_4dcc7a6a8c7eaf55c00bbb2884fc3057.nc\n",
    "mycurl --retry 5 --silent --show-error --data \"user=${username}&passwd=${md5passwd}\" \"${url}&file=GEO/MSG+0000/S_NWC/{y}/{d1}/S_NWC_CMA_MSG4_globeM-VISIR_{d2}T200000Z.nc&Xdim=3712&Ydim=3712\" > ${dest}/{d1}/S_NWC_CMA_MSG4_globeM-VISIR_{d2}T200000Z_4dcc7a6a8c7eaf55c00bbb2884fc3057.nc\n",
    "mycurl --retry 5 --silent --show-error --data \"user=${username}&passwd=${md5passwd}\" \"${url}&file=GEO/MSG+0000/S_NWC/{y}/{d1}/S_NWC_CMA_MSG4_globeM-VISIR_{d2}T201500Z.nc&Xdim=3712&Ydim=3712\" > ${dest}/{d1}/S_NWC_CMA_MSG4_globeM-VISIR_{d2}T201500Z_4dcc7a6a8c7eaf55c00bbb2884fc3057.nc\n",
    "mycurl --retry 5 --silent --show-error --data \"user=${username}&passwd=${md5passwd}\" \"${url}&file=GEO/MSG+0000/S_NWC/{y}/{d1}/S_NWC_CMA_MSG4_globeM-VISIR_{d2}T203000Z.nc&Xdim=3712&Ydim=3712\" > ${dest}/{d1}/S_NWC_CMA_MSG4_globeM-VISIR_{d2}T203000Z_4dcc7a6a8c7eaf55c00bbb2884fc3057.nc\n",
    "mycurl --retry 5 --silent --show-error --data \"user=${username}&passwd=${md5passwd}\" \"${url}&file=GEO/MSG+0000/S_NWC/{y}/{d1}/S_NWC_CMA_MSG4_globeM-VISIR_{d2}T204500Z.nc&Xdim=3712&Ydim=3712\" > ${dest}/{d1}/S_NWC_CMA_MSG4_globeM-VISIR_{d2}T204500Z_4dcc7a6a8c7eaf55c00bbb2884fc3057.nc\n",
    "mycurl --retry 5 --silent --show-error --data \"user=${username}&passwd=${md5passwd}\" \"${url}&file=GEO/MSG+0000/S_NWC/{y}/{d1}/S_NWC_CMA_MSG4_globeM-VISIR_{d2}T210000Z.nc&Xdim=3712&Ydim=3712\" > ${dest}/{d1}/S_NWC_CMA_MSG4_globeM-VISIR_{d2}T210000Z_4dcc7a6a8c7eaf55c00bbb2884fc3057.nc\n",
    "mycurl --retry 5 --silent --show-error --data \"user=${username}&passwd=${md5passwd}\" \"${url}&file=GEO/MSG+0000/S_NWC/{y}/{d1}/S_NWC_CMA_MSG4_globeM-VISIR_{d2}T211500Z.nc&Xdim=3712&Ydim=3712\" > ${dest}/{d1}/S_NWC_CMA_MSG4_globeM-VISIR_{d2}T211500Z_4dcc7a6a8c7eaf55c00bbb2884fc3057.nc\n",
    "mycurl --retry 5 --silent --show-error --data \"user=${username}&passwd=${md5passwd}\" \"${url}&file=GEO/MSG+0000/S_NWC/{y}/{d1}/S_NWC_CMA_MSG4_globeM-VISIR_{d2}T213000Z.nc&Xdim=3712&Ydim=3712\" > ${dest}/{d1}/S_NWC_CMA_MSG4_globeM-VISIR_{d2}T213000Z_4dcc7a6a8c7eaf55c00bbb2884fc3057.nc\n",
    "mycurl --retry 5 --silent --show-error --data \"user=${username}&passwd=${md5passwd}\" \"${url}&file=GEO/MSG+0000/S_NWC/{y}/{d1}/S_NWC_CMA_MSG4_globeM-VISIR_{d2}T214500Z.nc&Xdim=3712&Ydim=3712\" > ${dest}/{d1}/S_NWC_CMA_MSG4_globeM-VISIR_{d2}T214500Z_4dcc7a6a8c7eaf55c00bbb2884fc3057.nc\n",
    "mycurl --retry 5 --silent --show-error --data \"user=${username}&passwd=${md5passwd}\" \"${url}&file=GEO/MSG+0000/S_NWC/{y}/{d1}/S_NWC_CMA_MSG4_globeM-VISIR_{d2}T220000Z.nc&Xdim=3712&Ydim=3712\" > ${dest}/{d1}/S_NWC_CMA_MSG4_globeM-VISIR_{d2}T220000Z_4dcc7a6a8c7eaf55c00bbb2884fc3057.nc\n",
    "mycurl --retry 5 --silent --show-error --data \"user=${username}&passwd=${md5passwd}\" \"${url}&file=GEO/MSG+0000/S_NWC/{y}/{d1}/S_NWC_CMA_MSG4_globeM-VISIR_{d2}T221500Z.nc&Xdim=3712&Ydim=3712\" > ${dest}/{d1}/S_NWC_CMA_MSG4_globeM-VISIR_{d2}T221500Z_4dcc7a6a8c7eaf55c00bbb2884fc3057.nc\n",
    "mycurl --retry 5 --silent --show-error --data \"user=${username}&passwd=${md5passwd}\" \"${url}&file=GEO/MSG+0000/S_NWC/{y}/{d1}/S_NWC_CMA_MSG4_globeM-VISIR_{d2}T223000Z.nc&Xdim=3712&Ydim=3712\" > ${dest}/{d1}/S_NWC_CMA_MSG4_globeM-VISIR_{d2}T223000Z_4dcc7a6a8c7eaf55c00bbb2884fc3057.nc\n",
    "mycurl --retry 5 --silent --show-error --data \"user=${username}&passwd=${md5passwd}\" \"${url}&file=GEO/MSG+0000/S_NWC/{y}/{d1}/S_NWC_CMA_MSG4_globeM-VISIR_{d2}T224500Z.nc&Xdim=3712&Ydim=3712\" > ${dest}/{d1}/S_NWC_CMA_MSG4_globeM-VISIR_{d2}T224500Z_4dcc7a6a8c7eaf55c00bbb2884fc3057.nc\n",
    "mycurl --retry 5 --silent --show-error --data \"user=${username}&passwd=${md5passwd}\" \"${url}&file=GEO/MSG+0000/S_NWC/{y}/{d1}/S_NWC_CMA_MSG4_globeM-VISIR_{d2}T230000Z.nc&Xdim=3712&Ydim=3712\" > ${dest}/{d1}/S_NWC_CMA_MSG4_globeM-VISIR_{d2}T230000Z_4dcc7a6a8c7eaf55c00bbb2884fc3057.nc\n",
    "mycurl --retry 5 --silent --show-error --data \"user=${username}&passwd=${md5passwd}\" \"${url}&file=GEO/MSG+0000/S_NWC/{y}/{d1}/S_NWC_CMA_MSG4_globeM-VISIR_{d2}T231500Z.nc&Xdim=3712&Ydim=3712\" > ${dest}/{d1}/S_NWC_CMA_MSG4_globeM-VISIR_{d2}T231500Z_4dcc7a6a8c7eaf55c00bbb2884fc3057.nc\n",
    "mycurl --retry 5 --silent --show-error --data \"user=${username}&passwd=${md5passwd}\" \"${url}&file=GEO/MSG+0000/S_NWC/{y}/{d1}/S_NWC_CMA_MSG4_globeM-VISIR_{d2}T233000Z.nc&Xdim=3712&Ydim=3712\" > ${dest}/{d1}/S_NWC_CMA_MSG4_globeM-VISIR_{d2}T233000Z_4dcc7a6a8c7eaf55c00bbb2884fc3057.nc\n",
    "mycurl --retry 5 --silent --show-error --data \"user=${username}&passwd=${md5passwd}\" \"${url}&file=GEO/MSG+0000/S_NWC/{y}/{d1}/S_NWC_CMA_MSG4_globeM-VISIR_{d2}T234500Z.nc&Xdim=3712&Ydim=3712\" > ${dest}/{d1}/S_NWC_CMA_MSG4_globeM-VISIR_{d2}T234500Z_4dcc7a6a8c7eaf55c00bbb2884fc3057.nc\n",
    "'''\n",
    "    d1 = date\n",
    "    y = date.split(\"_\")[0]\n",
    "    d2 = date.split(\"_\")[0]+date.split(\"_\")[1]+date.split(\"_\")[2]\n",
    "    filesf = files.format(username = \"{username}\", md5passwd = \"{md5passwd}\", url = \"{url}\", dest = \"{dest}\", y=y, d1 = d1, d2=d2)\n",
    "    lines += [filesf]\n",
    "lines += [\"python generate.py \"+ dates[-1]+\"\\n\"]    \n",
    "lines += [\"# End of script\"]"
   ]
  },
  {
   "cell_type": "code",
   "execution_count": 23,
   "id": "9a0b6b18-05a7-4f4f-8ea9-c0d45c03f77f",
   "metadata": {},
   "outputs": [],
   "source": [
    "with open(\"2020Fix.sh\", \"w\") as done:\n",
    "    done.writelines(lines)"
   ]
  }
 ],
 "metadata": {
  "kernelspec": {
   "display_name": "Python 3 (ipykernel)",
   "language": "python",
   "name": "python3"
  },
  "language_info": {
   "codemirror_mode": {
    "name": "ipython",
    "version": 3
   },
   "file_extension": ".py",
   "mimetype": "text/x-python",
   "name": "python",
   "nbconvert_exporter": "python",
   "pygments_lexer": "ipython3",
   "version": "3.9.9"
  }
 },
 "nbformat": 4,
 "nbformat_minor": 5
}
